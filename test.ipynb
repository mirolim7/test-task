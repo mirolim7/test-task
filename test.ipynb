{
 "cells": [
  {
   "cell_type": "code",
   "execution_count": 1,
   "id": "58889226",
   "metadata": {},
   "outputs": [],
   "source": [
    "import csv\n",
    "from selenium import webdriver\n",
    "from bs4 import BeautifulSoup\n",
    "from webdriver_manager.chrome import ChromeDriverManager"
   ]
  },
  {
   "cell_type": "code",
   "execution_count": 2,
   "id": "f221ce65",
   "metadata": {},
   "outputs": [
    {
     "name": "stderr",
     "output_type": "stream",
     "text": [
      "\n",
      "\n",
      "====== WebDriver manager ======\n",
      "Current google-chrome version is 101.0.4951\n",
      "Get LATEST chromedriver version for 101.0.4951 google-chrome\n",
      "Trying to download new driver from https://chromedriver.storage.googleapis.com/101.0.4951.41/chromedriver_win32.zip\n",
      "Driver has been saved in cache [C:\\Users\\Mirolim\\.wdm\\drivers\\chromedriver\\win32\\101.0.4951.41]\n",
      "C:\\Users\\Mirolim\\AppData\\Local\\Temp/ipykernel_5644/1503906442.py:1: DeprecationWarning: executable_path has been deprecated, please pass in a Service object\n",
      "  driver = webdriver.Chrome(ChromeDriverManager().install())\n"
     ]
    }
   ],
   "source": [
    "driver = webdriver.Chrome(ChromeDriverManager().install())"
   ]
  },
  {
   "cell_type": "code",
   "execution_count": 3,
   "id": "373429cd",
   "metadata": {},
   "outputs": [],
   "source": [
    "def extract_data(vac):\n",
    "    try:\n",
    "        job_name = vac.find('a', 'bloko-link').text.strip()\n",
    "    except:\n",
    "        job_name = ''\n",
    "        \n",
    "    try:\n",
    "        salary = vac.find('span', 'bloko-header-section-3').text.strip().replace('\\u202f', '')\n",
    "    except:\n",
    "        salary = ''\n",
    "        \n",
    "    try:\n",
    "        company = vac.find('a', 'bloko-link bloko-link_kind-tertiary').text.strip().replace('\\xa0', ' ')\n",
    "    except:\n",
    "        company = ''\n",
    "        \n",
    "    try:\n",
    "        city = vac.find('div', 'bloko-text bloko-text_no-top-indent').text.strip()\n",
    "    except:\n",
    "        city = ''\n",
    "        \n",
    "    try:\n",
    "        description = vac.find('div', 'g-user-content').text.strip()\n",
    "    except:\n",
    "        description = ''\n",
    "        \n",
    "    try:\n",
    "        in_addition = vac.find('div', 'bloko-text').text.strip()\n",
    "    except:\n",
    "        in_addition = ''\n",
    "        \n",
    "    result = (job_name, salary, company, city, description, in_addition)\n",
    "    \n",
    "    return result"
   ]
  },
  {
   "cell_type": "code",
   "execution_count": 4,
   "id": "4877a282",
   "metadata": {},
   "outputs": [
    {
     "name": "stdout",
     "output_type": "stream",
     "text": [
      "1\n",
      "2\n",
      "3\n",
      "4\n"
     ]
    }
   ],
   "source": [
    "url = \"https://hh.kz/search/vacancy?area=160&search_field=name&search_field=company_name&search_field=description&text=python&from=suggest_post&page={}&hhtmFrom=vacancy_search_list\"\n",
    "\n",
    "records = []\n",
    "for page in range(0, 4):\n",
    "    print(page + 1)\n",
    "    driver.get(url.format(page))\n",
    "    soup = BeautifulSoup(driver.page_source, 'html.parser')\n",
    "    results = soup.find_all('div', {'class':\"vacancy-serp-item\"})\n",
    "    \n",
    "    for vacancy in results:\n",
    "        record = extract_data(vacancy)\n",
    "        if record:\n",
    "            records.append(record)\n",
    "            "
   ]
  },
  {
   "cell_type": "code",
   "execution_count": 5,
   "id": "6edb84bb",
   "metadata": {},
   "outputs": [
    {
     "data": {
      "text/plain": [
       "191"
      ]
     },
     "execution_count": 5,
     "metadata": {},
     "output_type": "execute_result"
    }
   ],
   "source": [
    "len(records)"
   ]
  },
  {
   "cell_type": "code",
   "execution_count": 6,
   "id": "e0659723",
   "metadata": {},
   "outputs": [],
   "source": [
    "driver.close()"
   ]
  },
  {
   "cell_type": "code",
   "execution_count": 7,
   "id": "4603b229",
   "metadata": {},
   "outputs": [],
   "source": [
    "with open('out.csv', 'w', newline = '', encoding = 'utf-8') as f:\n",
    "    writer = csv.writer(f)\n",
    "    writer.writerow(['Наименование', 'Зарплата', 'Компания', 'Локация', 'Описание', 'Доп. инфа'])\n",
    "    writer.writerows(records)"
   ]
  },
  {
   "cell_type": "code",
   "execution_count": null,
   "id": "1dcafb0e",
   "metadata": {},
   "outputs": [],
   "source": []
  }
 ],
 "metadata": {
  "kernelspec": {
   "display_name": "Python 3 (ipykernel)",
   "language": "python",
   "name": "python3"
  },
  "language_info": {
   "codemirror_mode": {
    "name": "ipython",
    "version": 3
   },
   "file_extension": ".py",
   "mimetype": "text/x-python",
   "name": "python",
   "nbconvert_exporter": "python",
   "pygments_lexer": "ipython3",
   "version": "3.9.7"
  }
 },
 "nbformat": 4,
 "nbformat_minor": 5
}
